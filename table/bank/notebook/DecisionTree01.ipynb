{
 "cells": [
  {
   "cell_type": "markdown",
   "metadata": {},
   "source": [
    "# はじめに  \n",
    "\n",
    "機械学習初学者用のチュートリアルとしてこの資料を作ります。\n",
    "チュートリアル完了後、pythonを使った２項分類の予測モデルを作成し、コンペサイトに投稿できるようになるまでを目標とします。\n",
    "\n",
    "機械学習では、既存データを学習して未知のデータに対して予測や分類を行うことができます。\n",
    "しかし、機械学習を勉強しようと参考書を買ってきて読んで見ると謎の数式や記号が並んでいて、線形代数や確率統計に馴染みがない方は\n",
    "なかなかピンとこないと感じてしまうと思います。\n",
    "きないことがよくあります。  \n",
    "\n",
    "一般に機械学習の習得を理論から学び始めるのは難しく時間がかかるものなので、まずはコードを書き実践を通してアルゴリズムの概念やデータの扱い方を把握し、その後にに理論を学ぶと言う順序で学習をするのが効率的だとこれまでの経験から感じています。  \n",
    "\n",
    "今回、機械学習の実践を行うにあたり、SIGNATEというデータ分析コンペを利用します。\n",
    "SIGNATEは企業とタイアップして機械学習による予測や分類を行うコンペを定期的に開催するコンペサイトです。上位入賞者には賞金も出ます。\n",
    "こうしたコンペサイトはデータ分析者にとって自身の腕試しやスキル向上にとても有用で、データ分析の入門者からエキスパートまでたくさん参加者が集まります。\n",
    "\n",
    "世界的にはグーグルが買収したKaggleという分析コンペサイトが有名です。本当はKaggleをやっていくのがモデル構築のスキルを高めるのに一番良いのですが、英語でとっつきづらくデータサイズも多きめなコンペが多いので、今回はSIGNATEを活用します。\n",
    "\n",
    "https://signate.jp/\n",
    "\n",
    "https://www.kaggle.com/"
   ]
  },
  {
   "cell_type": "markdown",
   "metadata": {},
   "source": [
    "# 銀行の顧客ターゲティング \n",
    "予測モデル構築の練習課題として、実データを使った例題を提示します。\n",
    "\n",
    "本コンペを活用して、SIGNATEでのデータ解析・モデル構築を体験してください。\n",
    "活用するデータは、実際のビジネス環境で得られたもので、マーケティングキャンペーンの効率化を図るためのモデリングを行います。\n",
    "詳しくはnoteのDBにあるDS養成講座のレポートを参照ください。\n",
    "\n",
    "https://signate.jp/competitions/1\n",
    "\n",
    "いくつか穴埋めにしてあるので(try)と書いてあるところを各自で試してみてください。"
   ]
  },
  {
   "cell_type": "markdown",
   "metadata": {},
   "source": [
    "## 準備"
   ]
  },
  {
   "cell_type": "markdown",
   "metadata": {},
   "source": [
    "### コンペ投稿のプロセス\n",
    "コンペ投稿は以下の手順を繰り返して進めるのが一般的です。\n",
    "この中でモデルの精度に一番影響を与える工程は、データ前処理です。\n",
    "どの機械学習アルゴリズムを使う場合でも、そのアルゴリズムに投入するデータの質が精度に大きな影響を与えます。\n",
    "前処で行う欠損値や外れ値の処理、特徴量作成、変数選択などが一番時間と手間がかかるとこであり、分析者の腕の見せどころとなります。\n",
    "\n",
    "- データ理解、可視化\n",
    "- データ前処理\n",
    "- モデル構築\n",
    "- 評価\n",
    "- 予測データ作成\n",
    "- 投稿\n",
    "\n",
    "以降、それぞれのプロセスでの実装を記載していきます。"
   ]
  },
  {
   "cell_type": "markdown",
   "metadata": {},
   "source": [
    "### データのダウンロード\n",
    "https://signate.jp/competitions/1\n",
    "\n",
    "上記サイトからtrain,test,sampleそれぞれのデータをダウンロードしてください。\n",
    "フォルダ構成は以下のようにして、notobookにこのファイルを置き、rawにダウンロードしたデータを配置してください。\n",
    "\n",
    " bank  - notebook\n",
    " \n",
    "      |\n",
    "      \n",
    "      - raw"
   ]
  },
  {
   "cell_type": "markdown",
   "metadata": {},
   "source": [
    "### ライブラリのインポート\n",
    "必要なライブラリをインポートします。asで略称を付けられます。\n",
    "以下３つのライブラリは、機械学習の実装を行う際の定番ライブラリです。\n",
    "\n",
    "- numpy：数値計算ライブラリ\n",
    "- pandas：データ解析ライブラリ\n",
    "- matplotlib：可視化ライブラリ\n",
    "\n",
    "%matplotlib inline はjupyternotebook上にグラフを描写するためのものです。\n",
    "\n",
    "それとセル内のコード実行はshift+Sで出来ます。"
   ]
  },
  {
   "cell_type": "code",
   "execution_count": 90,
   "metadata": {
    "collapsed": true
   },
   "outputs": [],
   "source": [
    "# shift+Sでコード実行\n",
    "import numpy as np\n",
    "import pandas as pd\n",
    "import matplotlib.pyplot as plt\n",
    "%matplotlib inline"
   ]
  },
  {
   "cell_type": "markdown",
   "metadata": {},
   "source": [
    "### ファイルの読み込み"
   ]
  },
  {
   "cell_type": "code",
   "execution_count": 91,
   "metadata": {
    "collapsed": true
   },
   "outputs": [],
   "source": [
    "#train,test,sample３つのcsvファイルを、pandasのread_csvメソッドを使い「データフレーム」として読み込みます。\n",
    "train = pd.read_csv('../raw/train.csv')\n",
    "test = pd.read_csv('../raw/test.csv')\n",
    "sample = pd.read_csv('../raw/submit_sample.csv',header=None)"
   ]
  },
  {
   "cell_type": "markdown",
   "metadata": {},
   "source": [
    "### データフレームについて  \n",
    "\n",
    "データフレームとは、２次元  (行×列)のデータであり、Excelシートのデータのようなものです。  \n",
    "Python で行列データを取り扱うときは Pandas モジュールのデータフレーム型を利用すると便利です。\n",
    "各行ごとの平均や列名で列を抽出したりすることが簡単に行えるようになります。"
   ]
  },
  {
   "cell_type": "markdown",
   "metadata": {},
   "source": [
    "## データ理解\n",
    "データを読み込みまで終わり、データ内容を理解する前準備が完了しました。\n",
    "これからダウンロードしたデータの内容を確認します。\n",
    "データを理解する際は、最初から細部を見るのではなく、大まかな全体像から捉えていくと良いです。"
   ]
  },
  {
   "cell_type": "markdown",
   "metadata": {},
   "source": [
    "### データフレームの中身確認\n",
    "データフレーム.head(n)でデータフレームの中身が確認できます。nの数字分行数が表示されます。"
   ]
  },
  {
   "cell_type": "code",
   "execution_count": 92,
   "metadata": {},
   "outputs": [
    {
     "data": {
      "text/html": [
       "<div>\n",
       "<style>\n",
       "    .dataframe thead tr:only-child th {\n",
       "        text-align: right;\n",
       "    }\n",
       "\n",
       "    .dataframe thead th {\n",
       "        text-align: left;\n",
       "    }\n",
       "\n",
       "    .dataframe tbody tr th {\n",
       "        vertical-align: top;\n",
       "    }\n",
       "</style>\n",
       "<table border=\"1\" class=\"dataframe\">\n",
       "  <thead>\n",
       "    <tr style=\"text-align: right;\">\n",
       "      <th></th>\n",
       "      <th>id</th>\n",
       "      <th>age</th>\n",
       "      <th>job</th>\n",
       "      <th>marital</th>\n",
       "      <th>education</th>\n",
       "      <th>default</th>\n",
       "      <th>balance</th>\n",
       "      <th>housing</th>\n",
       "      <th>loan</th>\n",
       "      <th>contact</th>\n",
       "      <th>day</th>\n",
       "      <th>month</th>\n",
       "      <th>duration</th>\n",
       "      <th>campaign</th>\n",
       "      <th>pdays</th>\n",
       "      <th>previous</th>\n",
       "      <th>poutcome</th>\n",
       "      <th>y</th>\n",
       "    </tr>\n",
       "  </thead>\n",
       "  <tbody>\n",
       "    <tr>\n",
       "      <th>0</th>\n",
       "      <td>1</td>\n",
       "      <td>39</td>\n",
       "      <td>blue-collar</td>\n",
       "      <td>married</td>\n",
       "      <td>secondary</td>\n",
       "      <td>no</td>\n",
       "      <td>1756</td>\n",
       "      <td>yes</td>\n",
       "      <td>no</td>\n",
       "      <td>cellular</td>\n",
       "      <td>3</td>\n",
       "      <td>apr</td>\n",
       "      <td>939</td>\n",
       "      <td>1</td>\n",
       "      <td>-1</td>\n",
       "      <td>0</td>\n",
       "      <td>unknown</td>\n",
       "      <td>1</td>\n",
       "    </tr>\n",
       "    <tr>\n",
       "      <th>1</th>\n",
       "      <td>2</td>\n",
       "      <td>51</td>\n",
       "      <td>entrepreneur</td>\n",
       "      <td>married</td>\n",
       "      <td>primary</td>\n",
       "      <td>no</td>\n",
       "      <td>1443</td>\n",
       "      <td>no</td>\n",
       "      <td>no</td>\n",
       "      <td>cellular</td>\n",
       "      <td>18</td>\n",
       "      <td>feb</td>\n",
       "      <td>172</td>\n",
       "      <td>10</td>\n",
       "      <td>-1</td>\n",
       "      <td>0</td>\n",
       "      <td>unknown</td>\n",
       "      <td>1</td>\n",
       "    </tr>\n",
       "    <tr>\n",
       "      <th>2</th>\n",
       "      <td>3</td>\n",
       "      <td>36</td>\n",
       "      <td>management</td>\n",
       "      <td>single</td>\n",
       "      <td>tertiary</td>\n",
       "      <td>no</td>\n",
       "      <td>436</td>\n",
       "      <td>no</td>\n",
       "      <td>no</td>\n",
       "      <td>cellular</td>\n",
       "      <td>13</td>\n",
       "      <td>apr</td>\n",
       "      <td>567</td>\n",
       "      <td>1</td>\n",
       "      <td>595</td>\n",
       "      <td>2</td>\n",
       "      <td>failure</td>\n",
       "      <td>1</td>\n",
       "    </tr>\n",
       "    <tr>\n",
       "      <th>3</th>\n",
       "      <td>4</td>\n",
       "      <td>63</td>\n",
       "      <td>retired</td>\n",
       "      <td>married</td>\n",
       "      <td>secondary</td>\n",
       "      <td>no</td>\n",
       "      <td>474</td>\n",
       "      <td>no</td>\n",
       "      <td>no</td>\n",
       "      <td>cellular</td>\n",
       "      <td>25</td>\n",
       "      <td>jan</td>\n",
       "      <td>423</td>\n",
       "      <td>1</td>\n",
       "      <td>-1</td>\n",
       "      <td>0</td>\n",
       "      <td>unknown</td>\n",
       "      <td>1</td>\n",
       "    </tr>\n",
       "    <tr>\n",
       "      <th>4</th>\n",
       "      <td>5</td>\n",
       "      <td>31</td>\n",
       "      <td>management</td>\n",
       "      <td>single</td>\n",
       "      <td>tertiary</td>\n",
       "      <td>no</td>\n",
       "      <td>354</td>\n",
       "      <td>no</td>\n",
       "      <td>no</td>\n",
       "      <td>cellular</td>\n",
       "      <td>30</td>\n",
       "      <td>apr</td>\n",
       "      <td>502</td>\n",
       "      <td>1</td>\n",
       "      <td>9</td>\n",
       "      <td>2</td>\n",
       "      <td>success</td>\n",
       "      <td>1</td>\n",
       "    </tr>\n",
       "  </tbody>\n",
       "</table>\n",
       "</div>"
      ],
      "text/plain": [
       "   id  age           job  marital  education default  balance housing loan  \\\n",
       "0   1   39   blue-collar  married  secondary      no     1756     yes   no   \n",
       "1   2   51  entrepreneur  married    primary      no     1443      no   no   \n",
       "2   3   36    management   single   tertiary      no      436      no   no   \n",
       "3   4   63       retired  married  secondary      no      474      no   no   \n",
       "4   5   31    management   single   tertiary      no      354      no   no   \n",
       "\n",
       "    contact  day month  duration  campaign  pdays  previous poutcome  y  \n",
       "0  cellular    3   apr       939         1     -1         0  unknown  1  \n",
       "1  cellular   18   feb       172        10     -1         0  unknown  1  \n",
       "2  cellular   13   apr       567         1    595         2  failure  1  \n",
       "3  cellular   25   jan       423         1     -1         0  unknown  1  \n",
       "4  cellular   30   apr       502         1      9         2  success  1  "
      ]
     },
     "execution_count": 92,
     "metadata": {},
     "output_type": "execute_result"
    }
   ],
   "source": [
    "# trainの中身確認\n",
    "train.head(5)"
   ]
  },
  {
   "cell_type": "code",
   "execution_count": 93,
   "metadata": {},
   "outputs": [],
   "source": [
    "# testの中身確認(try)\n"
   ]
  },
  {
   "cell_type": "code",
   "execution_count": 94,
   "metadata": {},
   "outputs": [],
   "source": [
    "# sampleの中身確認(try)\n"
   ]
  },
  {
   "cell_type": "markdown",
   "metadata": {},
   "source": [
    "３つのファイルの中身を見るとtrainとtestは同じ項目が並んでいるのがわかります。違うのはtrainにはy列があり、testにはy列が無い点です。\n",
    "このy列が今回のモデルの予測対象＝目的変数となります。\n",
    "今回のコンペでは、trainを教師データとしてyを予測するモデルを作り、testのyを予測します。基本的にtrainとtestは目的変数以外同じ項目である\n",
    "必要があります。\n",
    "\n",
    "sampleは0番目の列がtestデータidとひも付きます。1番目の列がtestデータのyの予測値になります。すでに登録されているデータはコンペサイト側でサンプルとして記載されているデータなので、これから作成するモデルを使って1番目の列を上書きすることになります。sampleはあくまでコンペサイトに投稿するためのフォーマットで、コンペの内容によってこのフォーマットはそれぞれ変わります。"
   ]
  },
  {
   "cell_type": "markdown",
   "metadata": {},
   "source": [
    "### データフレームの行数と列数を確認 \n",
    "df.shapeにより、データフレームの行数と列数を確認することができます。"
   ]
  },
  {
   "cell_type": "code",
   "execution_count": 95,
   "metadata": {},
   "outputs": [
    {
     "name": "stdout",
     "output_type": "stream",
     "text": [
      "(27128, 18)\n",
      "(18083, 17)\n",
      "(18083, 2)\n"
     ]
    }
   ],
   "source": [
    "print(train.shape)\n",
    "print(test.shape)\n",
    "print(sample.shape)"
   ]
  },
  {
   "cell_type": "markdown",
   "metadata": {},
   "source": [
    "それぞれ次の行数と列数を持つデータ構造だということがわかります。  \n",
    "\n",
    "- train:27128行×18列\n",
    "- test:18083行×17列\n",
    "- sample:18083行×2列"
   ]
  },
  {
   "cell_type": "markdown",
   "metadata": {},
   "source": [
    "### 各列の欠損値とデータ型を確認\n",
    "df.info()により、各列の欠損値の数とデータ型を確認できます。 "
   ]
  },
  {
   "cell_type": "code",
   "execution_count": 96,
   "metadata": {},
   "outputs": [
    {
     "name": "stdout",
     "output_type": "stream",
     "text": [
      "<class 'pandas.core.frame.DataFrame'>\n",
      "RangeIndex: 27128 entries, 0 to 27127\n",
      "Data columns (total 18 columns):\n",
      "id           27128 non-null int64\n",
      "age          27128 non-null int64\n",
      "job          27128 non-null object\n",
      "marital      27128 non-null object\n",
      "education    27128 non-null object\n",
      "default      27128 non-null object\n",
      "balance      27128 non-null int64\n",
      "housing      27128 non-null object\n",
      "loan         27128 non-null object\n",
      "contact      27128 non-null object\n",
      "day          27128 non-null int64\n",
      "month        27128 non-null object\n",
      "duration     27128 non-null int64\n",
      "campaign     27128 non-null int64\n",
      "pdays        27128 non-null int64\n",
      "previous     27128 non-null int64\n",
      "poutcome     27128 non-null object\n",
      "y            27128 non-null int64\n",
      "dtypes: int64(9), object(9)\n",
      "memory usage: 3.7+ MB\n"
     ]
    }
   ],
   "source": [
    "# trainの欠損値とデータ型\n",
    "train.info()"
   ]
  },
  {
   "cell_type": "markdown",
   "metadata": {},
   "source": [
    "trainには欠損値がなく、int64が9列、object型が9列あることがわかります。testデータも確認してみてください。"
   ]
  },
  {
   "cell_type": "code",
   "execution_count": 97,
   "metadata": {},
   "outputs": [],
   "source": [
    "# testの欠損値とデータ型(try)\n"
   ]
  },
  {
   "cell_type": "markdown",
   "metadata": {},
   "source": [
    "### 基本統計量の確認\n",
    "df.describe()により、数値データ型の行数・平均値・標準偏差・最小値・最大値・四分位数を確認できます。"
   ]
  },
  {
   "cell_type": "code",
   "execution_count": 98,
   "metadata": {},
   "outputs": [
    {
     "data": {
      "text/html": [
       "<div>\n",
       "<style>\n",
       "    .dataframe thead tr:only-child th {\n",
       "        text-align: right;\n",
       "    }\n",
       "\n",
       "    .dataframe thead th {\n",
       "        text-align: left;\n",
       "    }\n",
       "\n",
       "    .dataframe tbody tr th {\n",
       "        vertical-align: top;\n",
       "    }\n",
       "</style>\n",
       "<table border=\"1\" class=\"dataframe\">\n",
       "  <thead>\n",
       "    <tr style=\"text-align: right;\">\n",
       "      <th></th>\n",
       "      <th>id</th>\n",
       "      <th>age</th>\n",
       "      <th>balance</th>\n",
       "      <th>day</th>\n",
       "      <th>duration</th>\n",
       "      <th>campaign</th>\n",
       "      <th>pdays</th>\n",
       "      <th>previous</th>\n",
       "      <th>y</th>\n",
       "    </tr>\n",
       "  </thead>\n",
       "  <tbody>\n",
       "    <tr>\n",
       "      <th>count</th>\n",
       "      <td>27128.000000</td>\n",
       "      <td>27128.000000</td>\n",
       "      <td>27128.000000</td>\n",
       "      <td>27128.000000</td>\n",
       "      <td>27128.000000</td>\n",
       "      <td>27128.000000</td>\n",
       "      <td>27128.000000</td>\n",
       "      <td>27128.000000</td>\n",
       "      <td>27128.000000</td>\n",
       "    </tr>\n",
       "    <tr>\n",
       "      <th>mean</th>\n",
       "      <td>13564.500000</td>\n",
       "      <td>40.951010</td>\n",
       "      <td>1355.800870</td>\n",
       "      <td>15.806215</td>\n",
       "      <td>260.711295</td>\n",
       "      <td>2.751769</td>\n",
       "      <td>40.528052</td>\n",
       "      <td>0.579733</td>\n",
       "      <td>0.117001</td>\n",
       "    </tr>\n",
       "    <tr>\n",
       "      <th>std</th>\n",
       "      <td>7831.323388</td>\n",
       "      <td>10.608542</td>\n",
       "      <td>3003.305272</td>\n",
       "      <td>8.337904</td>\n",
       "      <td>260.091727</td>\n",
       "      <td>3.126594</td>\n",
       "      <td>100.382462</td>\n",
       "      <td>2.503653</td>\n",
       "      <td>0.321427</td>\n",
       "    </tr>\n",
       "    <tr>\n",
       "      <th>min</th>\n",
       "      <td>1.000000</td>\n",
       "      <td>18.000000</td>\n",
       "      <td>-6847.000000</td>\n",
       "      <td>1.000000</td>\n",
       "      <td>0.000000</td>\n",
       "      <td>1.000000</td>\n",
       "      <td>-1.000000</td>\n",
       "      <td>0.000000</td>\n",
       "      <td>0.000000</td>\n",
       "    </tr>\n",
       "    <tr>\n",
       "      <th>25%</th>\n",
       "      <td>6782.750000</td>\n",
       "      <td>33.000000</td>\n",
       "      <td>72.000000</td>\n",
       "      <td>8.000000</td>\n",
       "      <td>104.000000</td>\n",
       "      <td>1.000000</td>\n",
       "      <td>-1.000000</td>\n",
       "      <td>0.000000</td>\n",
       "      <td>0.000000</td>\n",
       "    </tr>\n",
       "    <tr>\n",
       "      <th>50%</th>\n",
       "      <td>13564.500000</td>\n",
       "      <td>39.000000</td>\n",
       "      <td>449.000000</td>\n",
       "      <td>16.000000</td>\n",
       "      <td>182.000000</td>\n",
       "      <td>2.000000</td>\n",
       "      <td>-1.000000</td>\n",
       "      <td>0.000000</td>\n",
       "      <td>0.000000</td>\n",
       "    </tr>\n",
       "    <tr>\n",
       "      <th>75%</th>\n",
       "      <td>20346.250000</td>\n",
       "      <td>48.000000</td>\n",
       "      <td>1428.000000</td>\n",
       "      <td>21.000000</td>\n",
       "      <td>323.000000</td>\n",
       "      <td>3.000000</td>\n",
       "      <td>-1.000000</td>\n",
       "      <td>0.000000</td>\n",
       "      <td>0.000000</td>\n",
       "    </tr>\n",
       "    <tr>\n",
       "      <th>max</th>\n",
       "      <td>27128.000000</td>\n",
       "      <td>95.000000</td>\n",
       "      <td>102127.000000</td>\n",
       "      <td>31.000000</td>\n",
       "      <td>4918.000000</td>\n",
       "      <td>63.000000</td>\n",
       "      <td>871.000000</td>\n",
       "      <td>275.000000</td>\n",
       "      <td>1.000000</td>\n",
       "    </tr>\n",
       "  </tbody>\n",
       "</table>\n",
       "</div>"
      ],
      "text/plain": [
       "                 id           age        balance           day      duration  \\\n",
       "count  27128.000000  27128.000000   27128.000000  27128.000000  27128.000000   \n",
       "mean   13564.500000     40.951010    1355.800870     15.806215    260.711295   \n",
       "std     7831.323388     10.608542    3003.305272      8.337904    260.091727   \n",
       "min        1.000000     18.000000   -6847.000000      1.000000      0.000000   \n",
       "25%     6782.750000     33.000000      72.000000      8.000000    104.000000   \n",
       "50%    13564.500000     39.000000     449.000000     16.000000    182.000000   \n",
       "75%    20346.250000     48.000000    1428.000000     21.000000    323.000000   \n",
       "max    27128.000000     95.000000  102127.000000     31.000000   4918.000000   \n",
       "\n",
       "           campaign         pdays      previous             y  \n",
       "count  27128.000000  27128.000000  27128.000000  27128.000000  \n",
       "mean       2.751769     40.528052      0.579733      0.117001  \n",
       "std        3.126594    100.382462      2.503653      0.321427  \n",
       "min        1.000000     -1.000000      0.000000      0.000000  \n",
       "25%        1.000000     -1.000000      0.000000      0.000000  \n",
       "50%        2.000000     -1.000000      0.000000      0.000000  \n",
       "75%        3.000000     -1.000000      0.000000      0.000000  \n",
       "max       63.000000    871.000000    275.000000      1.000000  "
      ]
     },
     "execution_count": 98,
     "metadata": {},
     "output_type": "execute_result"
    }
   ],
   "source": [
    "# trainの基本統計量の確認\n",
    "train.describe()"
   ]
  },
  {
   "cell_type": "markdown",
   "metadata": {},
   "source": [
    "ageを見ると平均年齢40歳、標準偏差10、一番下が18歳、最高齢は95歳等がわかります。\n",
    "その他の列についても気づいたことを書き出して見てください！！\n",
    "\n",
    "また、数値型以外も表示したいときは、df.describe(include =  'all')と書くと全ての列についての要約統計量を確認できます。"
   ]
  },
  {
   "cell_type": "markdown",
   "metadata": {},
   "source": [
    "### 気づき(try)\n"
   ]
  },
  {
   "cell_type": "code",
   "execution_count": 99,
   "metadata": {},
   "outputs": [
    {
     "data": {
      "text/html": [
       "<div>\n",
       "<style>\n",
       "    .dataframe thead tr:only-child th {\n",
       "        text-align: right;\n",
       "    }\n",
       "\n",
       "    .dataframe thead th {\n",
       "        text-align: left;\n",
       "    }\n",
       "\n",
       "    .dataframe tbody tr th {\n",
       "        vertical-align: top;\n",
       "    }\n",
       "</style>\n",
       "<table border=\"1\" class=\"dataframe\">\n",
       "  <thead>\n",
       "    <tr style=\"text-align: right;\">\n",
       "      <th></th>\n",
       "      <th>id</th>\n",
       "      <th>age</th>\n",
       "      <th>job</th>\n",
       "      <th>marital</th>\n",
       "      <th>education</th>\n",
       "      <th>default</th>\n",
       "      <th>balance</th>\n",
       "      <th>housing</th>\n",
       "      <th>loan</th>\n",
       "      <th>contact</th>\n",
       "      <th>day</th>\n",
       "      <th>month</th>\n",
       "      <th>duration</th>\n",
       "      <th>campaign</th>\n",
       "      <th>pdays</th>\n",
       "      <th>previous</th>\n",
       "      <th>poutcome</th>\n",
       "      <th>y</th>\n",
       "    </tr>\n",
       "  </thead>\n",
       "  <tbody>\n",
       "    <tr>\n",
       "      <th>count</th>\n",
       "      <td>27128.000000</td>\n",
       "      <td>27128.000000</td>\n",
       "      <td>27128</td>\n",
       "      <td>27128</td>\n",
       "      <td>27128</td>\n",
       "      <td>27128</td>\n",
       "      <td>27128.000000</td>\n",
       "      <td>27128</td>\n",
       "      <td>27128</td>\n",
       "      <td>27128</td>\n",
       "      <td>27128.000000</td>\n",
       "      <td>27128</td>\n",
       "      <td>27128.000000</td>\n",
       "      <td>27128.000000</td>\n",
       "      <td>27128.000000</td>\n",
       "      <td>27128.000000</td>\n",
       "      <td>27128</td>\n",
       "      <td>27128.000000</td>\n",
       "    </tr>\n",
       "    <tr>\n",
       "      <th>unique</th>\n",
       "      <td>NaN</td>\n",
       "      <td>NaN</td>\n",
       "      <td>12</td>\n",
       "      <td>3</td>\n",
       "      <td>4</td>\n",
       "      <td>2</td>\n",
       "      <td>NaN</td>\n",
       "      <td>2</td>\n",
       "      <td>2</td>\n",
       "      <td>3</td>\n",
       "      <td>NaN</td>\n",
       "      <td>12</td>\n",
       "      <td>NaN</td>\n",
       "      <td>NaN</td>\n",
       "      <td>NaN</td>\n",
       "      <td>NaN</td>\n",
       "      <td>4</td>\n",
       "      <td>NaN</td>\n",
       "    </tr>\n",
       "    <tr>\n",
       "      <th>top</th>\n",
       "      <td>NaN</td>\n",
       "      <td>NaN</td>\n",
       "      <td>blue-collar</td>\n",
       "      <td>married</td>\n",
       "      <td>secondary</td>\n",
       "      <td>no</td>\n",
       "      <td>NaN</td>\n",
       "      <td>yes</td>\n",
       "      <td>no</td>\n",
       "      <td>cellular</td>\n",
       "      <td>NaN</td>\n",
       "      <td>may</td>\n",
       "      <td>NaN</td>\n",
       "      <td>NaN</td>\n",
       "      <td>NaN</td>\n",
       "      <td>NaN</td>\n",
       "      <td>unknown</td>\n",
       "      <td>NaN</td>\n",
       "    </tr>\n",
       "    <tr>\n",
       "      <th>freq</th>\n",
       "      <td>NaN</td>\n",
       "      <td>NaN</td>\n",
       "      <td>5886</td>\n",
       "      <td>16411</td>\n",
       "      <td>13882</td>\n",
       "      <td>26644</td>\n",
       "      <td>NaN</td>\n",
       "      <td>15125</td>\n",
       "      <td>22788</td>\n",
       "      <td>17580</td>\n",
       "      <td>NaN</td>\n",
       "      <td>8317</td>\n",
       "      <td>NaN</td>\n",
       "      <td>NaN</td>\n",
       "      <td>NaN</td>\n",
       "      <td>NaN</td>\n",
       "      <td>22150</td>\n",
       "      <td>NaN</td>\n",
       "    </tr>\n",
       "    <tr>\n",
       "      <th>mean</th>\n",
       "      <td>13564.500000</td>\n",
       "      <td>40.951010</td>\n",
       "      <td>NaN</td>\n",
       "      <td>NaN</td>\n",
       "      <td>NaN</td>\n",
       "      <td>NaN</td>\n",
       "      <td>1355.800870</td>\n",
       "      <td>NaN</td>\n",
       "      <td>NaN</td>\n",
       "      <td>NaN</td>\n",
       "      <td>15.806215</td>\n",
       "      <td>NaN</td>\n",
       "      <td>260.711295</td>\n",
       "      <td>2.751769</td>\n",
       "      <td>40.528052</td>\n",
       "      <td>0.579733</td>\n",
       "      <td>NaN</td>\n",
       "      <td>0.117001</td>\n",
       "    </tr>\n",
       "    <tr>\n",
       "      <th>std</th>\n",
       "      <td>7831.323388</td>\n",
       "      <td>10.608542</td>\n",
       "      <td>NaN</td>\n",
       "      <td>NaN</td>\n",
       "      <td>NaN</td>\n",
       "      <td>NaN</td>\n",
       "      <td>3003.305272</td>\n",
       "      <td>NaN</td>\n",
       "      <td>NaN</td>\n",
       "      <td>NaN</td>\n",
       "      <td>8.337904</td>\n",
       "      <td>NaN</td>\n",
       "      <td>260.091727</td>\n",
       "      <td>3.126594</td>\n",
       "      <td>100.382462</td>\n",
       "      <td>2.503653</td>\n",
       "      <td>NaN</td>\n",
       "      <td>0.321427</td>\n",
       "    </tr>\n",
       "    <tr>\n",
       "      <th>min</th>\n",
       "      <td>1.000000</td>\n",
       "      <td>18.000000</td>\n",
       "      <td>NaN</td>\n",
       "      <td>NaN</td>\n",
       "      <td>NaN</td>\n",
       "      <td>NaN</td>\n",
       "      <td>-6847.000000</td>\n",
       "      <td>NaN</td>\n",
       "      <td>NaN</td>\n",
       "      <td>NaN</td>\n",
       "      <td>1.000000</td>\n",
       "      <td>NaN</td>\n",
       "      <td>0.000000</td>\n",
       "      <td>1.000000</td>\n",
       "      <td>-1.000000</td>\n",
       "      <td>0.000000</td>\n",
       "      <td>NaN</td>\n",
       "      <td>0.000000</td>\n",
       "    </tr>\n",
       "    <tr>\n",
       "      <th>25%</th>\n",
       "      <td>6782.750000</td>\n",
       "      <td>33.000000</td>\n",
       "      <td>NaN</td>\n",
       "      <td>NaN</td>\n",
       "      <td>NaN</td>\n",
       "      <td>NaN</td>\n",
       "      <td>72.000000</td>\n",
       "      <td>NaN</td>\n",
       "      <td>NaN</td>\n",
       "      <td>NaN</td>\n",
       "      <td>8.000000</td>\n",
       "      <td>NaN</td>\n",
       "      <td>104.000000</td>\n",
       "      <td>1.000000</td>\n",
       "      <td>-1.000000</td>\n",
       "      <td>0.000000</td>\n",
       "      <td>NaN</td>\n",
       "      <td>0.000000</td>\n",
       "    </tr>\n",
       "    <tr>\n",
       "      <th>50%</th>\n",
       "      <td>13564.500000</td>\n",
       "      <td>39.000000</td>\n",
       "      <td>NaN</td>\n",
       "      <td>NaN</td>\n",
       "      <td>NaN</td>\n",
       "      <td>NaN</td>\n",
       "      <td>449.000000</td>\n",
       "      <td>NaN</td>\n",
       "      <td>NaN</td>\n",
       "      <td>NaN</td>\n",
       "      <td>16.000000</td>\n",
       "      <td>NaN</td>\n",
       "      <td>182.000000</td>\n",
       "      <td>2.000000</td>\n",
       "      <td>-1.000000</td>\n",
       "      <td>0.000000</td>\n",
       "      <td>NaN</td>\n",
       "      <td>0.000000</td>\n",
       "    </tr>\n",
       "    <tr>\n",
       "      <th>75%</th>\n",
       "      <td>20346.250000</td>\n",
       "      <td>48.000000</td>\n",
       "      <td>NaN</td>\n",
       "      <td>NaN</td>\n",
       "      <td>NaN</td>\n",
       "      <td>NaN</td>\n",
       "      <td>1428.000000</td>\n",
       "      <td>NaN</td>\n",
       "      <td>NaN</td>\n",
       "      <td>NaN</td>\n",
       "      <td>21.000000</td>\n",
       "      <td>NaN</td>\n",
       "      <td>323.000000</td>\n",
       "      <td>3.000000</td>\n",
       "      <td>-1.000000</td>\n",
       "      <td>0.000000</td>\n",
       "      <td>NaN</td>\n",
       "      <td>0.000000</td>\n",
       "    </tr>\n",
       "    <tr>\n",
       "      <th>max</th>\n",
       "      <td>27128.000000</td>\n",
       "      <td>95.000000</td>\n",
       "      <td>NaN</td>\n",
       "      <td>NaN</td>\n",
       "      <td>NaN</td>\n",
       "      <td>NaN</td>\n",
       "      <td>102127.000000</td>\n",
       "      <td>NaN</td>\n",
       "      <td>NaN</td>\n",
       "      <td>NaN</td>\n",
       "      <td>31.000000</td>\n",
       "      <td>NaN</td>\n",
       "      <td>4918.000000</td>\n",
       "      <td>63.000000</td>\n",
       "      <td>871.000000</td>\n",
       "      <td>275.000000</td>\n",
       "      <td>NaN</td>\n",
       "      <td>1.000000</td>\n",
       "    </tr>\n",
       "  </tbody>\n",
       "</table>\n",
       "</div>"
      ],
      "text/plain": [
       "                  id           age          job  marital  education default  \\\n",
       "count   27128.000000  27128.000000        27128    27128      27128   27128   \n",
       "unique           NaN           NaN           12        3          4       2   \n",
       "top              NaN           NaN  blue-collar  married  secondary      no   \n",
       "freq             NaN           NaN         5886    16411      13882   26644   \n",
       "mean    13564.500000     40.951010          NaN      NaN        NaN     NaN   \n",
       "std      7831.323388     10.608542          NaN      NaN        NaN     NaN   \n",
       "min         1.000000     18.000000          NaN      NaN        NaN     NaN   \n",
       "25%      6782.750000     33.000000          NaN      NaN        NaN     NaN   \n",
       "50%     13564.500000     39.000000          NaN      NaN        NaN     NaN   \n",
       "75%     20346.250000     48.000000          NaN      NaN        NaN     NaN   \n",
       "max     27128.000000     95.000000          NaN      NaN        NaN     NaN   \n",
       "\n",
       "              balance housing   loan   contact           day  month  \\\n",
       "count    27128.000000   27128  27128     27128  27128.000000  27128   \n",
       "unique            NaN       2      2         3           NaN     12   \n",
       "top               NaN     yes     no  cellular           NaN    may   \n",
       "freq              NaN   15125  22788     17580           NaN   8317   \n",
       "mean      1355.800870     NaN    NaN       NaN     15.806215    NaN   \n",
       "std       3003.305272     NaN    NaN       NaN      8.337904    NaN   \n",
       "min      -6847.000000     NaN    NaN       NaN      1.000000    NaN   \n",
       "25%         72.000000     NaN    NaN       NaN      8.000000    NaN   \n",
       "50%        449.000000     NaN    NaN       NaN     16.000000    NaN   \n",
       "75%       1428.000000     NaN    NaN       NaN     21.000000    NaN   \n",
       "max     102127.000000     NaN    NaN       NaN     31.000000    NaN   \n",
       "\n",
       "            duration      campaign         pdays      previous poutcome  \\\n",
       "count   27128.000000  27128.000000  27128.000000  27128.000000    27128   \n",
       "unique           NaN           NaN           NaN           NaN        4   \n",
       "top              NaN           NaN           NaN           NaN  unknown   \n",
       "freq             NaN           NaN           NaN           NaN    22150   \n",
       "mean      260.711295      2.751769     40.528052      0.579733      NaN   \n",
       "std       260.091727      3.126594    100.382462      2.503653      NaN   \n",
       "min         0.000000      1.000000     -1.000000      0.000000      NaN   \n",
       "25%       104.000000      1.000000     -1.000000      0.000000      NaN   \n",
       "50%       182.000000      2.000000     -1.000000      0.000000      NaN   \n",
       "75%       323.000000      3.000000     -1.000000      0.000000      NaN   \n",
       "max      4918.000000     63.000000    871.000000    275.000000      NaN   \n",
       "\n",
       "                   y  \n",
       "count   27128.000000  \n",
       "unique           NaN  \n",
       "top              NaN  \n",
       "freq             NaN  \n",
       "mean        0.117001  \n",
       "std         0.321427  \n",
       "min         0.000000  \n",
       "25%         0.000000  \n",
       "50%         0.000000  \n",
       "75%         0.000000  \n",
       "max         1.000000  "
      ]
     },
     "execution_count": 99,
     "metadata": {},
     "output_type": "execute_result"
    }
   ],
   "source": [
    "train.describe(include =  'all')"
   ]
  },
  {
   "cell_type": "markdown",
   "metadata": {},
   "source": [
    "## 可視化\n",
    "基本統計量でデータの全体像が見えてきたと思いますが、もう少しデータの理解を深めるために可視化を行います。\n",
    "可視化の方法や切り口はいろいろあり、データの特性を見ながらどういった視点で可視化をするかを探索的に進める必要があります。"
   ]
  },
  {
   "cell_type": "code",
   "execution_count": 100,
   "metadata": {},
   "outputs": [],
   "source": [
    "# 可視化はMatplotlibが一番定番なんですがMatplotlibの機能をより美しく、\n",
    "# より簡単に実現するためのラッパーライブラリの「Seaborn」を使います。\n",
    "# importでエラーがでたら、anacondaplomptで\"pip install seaborn\"を実行してください。\n",
    "import seaborn as sns"
   ]
  },
  {
   "cell_type": "markdown",
   "metadata": {},
   "source": [
    "### 定額預金申込有無"
   ]
  },
  {
   "cell_type": "code",
   "execution_count": 101,
   "metadata": {},
   "outputs": [
    {
     "data": {
      "text/plain": [
       "([<matplotlib.axis.XTick at 0x253bc8c6048>,\n",
       "  <matplotlib.axis.XTick at 0x253bc8c3b38>],\n",
       " <a list of 2 Text xticklabel objects>)"
      ]
     },
     "execution_count": 101,
     "metadata": {},
     "output_type": "execute_result"
    },
    {
     "data": {
      "image/png": "[encoded data removed]",
      "text/plain": [
       "<matplotlib.figure.Figure at 0x253bc4a9518>"
      ]
     },
     "metadata": {},
     "output_type": "display_data"
    }
   ],
   "source": [
    "# 定額預金申込有無の数\n",
    "# 引数にx軸を定義するとデータ数を表示できます。これだけでプロットできます\n",
    "sns.countplot(train.y)\n",
    "# タイトルの設定\n",
    "plt.title('定額預金申込有無の数')\n",
    "# x軸のラベルを指定\n",
    "plt.xticks([0,1],['申込有','申込無'])"
   ]
  },
  {
   "cell_type": "markdown",
   "metadata": {},
   "source": [
    "### 年齢"
   ]
  },
  {
   "cell_type": "code",
   "execution_count": 102,
   "metadata": {},
   "outputs": [
    {
     "data": {
      "text/plain": [
       "<matplotlib.axes._subplots.AxesSubplot at 0x253bc8c7908>"
      ]
     },
     "execution_count": 102,
     "metadata": {},
     "output_type": "execute_result"
    },
    {
     "data": {
      "image/png": "[encoded data removed]",
      "text/plain": [
       "<matplotlib.figure.Figure at 0x253bc5f87f0>"
      ]
     },
     "metadata": {},
     "output_type": "display_data"
    }
   ],
   "source": [
    "# 画像サイズを指定\n",
    "plt.figure(figsize=(18, 5))\n",
    "# 画像を左右に並べる：subplot(行数, 列数, 何番目のプロットか)\n",
    "plt.subplot(1, 2, 1)\n",
    "# ヒストグラムで年齢をプロット binsはx軸の刻み目の指定\n",
    "sns.distplot(train.age, bins=10)\n",
    "# 画像を左右に並べる：subplot(行数, 列数, 何番目のプロットか)\n",
    "plt.subplot(1, 2, 2)\n",
    "# 申込有無毎の年齢分布をバイオリン図をプロット\n",
    "sns.violinplot(x='y', y='age', data=train)"
   ]
  },
  {
   "cell_type": "markdown",
   "metadata": {},
   "source": [
    "### 職種"
   ]
  },
  {
   "cell_type": "code",
   "execution_count": 103,
   "metadata": {},
   "outputs": [
    {
     "data": {
      "text/plain": [
       "<matplotlib.axes._subplots.AxesSubplot at 0x253bb6556d8>"
      ]
     },
     "execution_count": 103,
     "metadata": {},
     "output_type": "execute_result"
    },
    {
     "data": {
      "image/png": "[encoded data removed]",
      "text/plain": [
       "<matplotlib.figure.Figure at 0x253bc5f85c0>"
      ]
     },
     "metadata": {},
     "output_type": "display_data"
    }
   ],
   "source": [
    "# 画像サイズを指定\n",
    "plt.figure(figsize=(18, 5))\n",
    "# 職種毎のデータ数をカウント\n",
    "sns.countplot(train.job)"
   ]
  },
  {
   "cell_type": "code",
   "execution_count": 104,
   "metadata": {},
   "outputs": [
    {
     "data": {
      "text/plain": [
       "<matplotlib.axes._subplots.AxesSubplot at 0x253bcbc7160>"
      ]
     },
     "execution_count": 104,
     "metadata": {},
     "output_type": "execute_result"
    },
    {
     "data": {
      "image/png": "[encoded data removed]",
      "text/plain": [
       "<matplotlib.figure.Figure at 0x253bc9e0400>"
      ]
     },
     "metadata": {},
     "output_type": "display_data"
    }
   ],
   "source": [
    "# 画像サイズを指定\n",
    "plt.figure(figsize=(18, 5))\n",
    "# 職種別に申込有無を表示\n",
    "sns.countplot(x='job', hue='y', data=train)"
   ]
  },
  {
   "cell_type": "markdown",
   "metadata": {},
   "source": [
    "### 全体の相関"
   ]
  },
  {
   "cell_type": "code",
   "execution_count": 105,
   "metadata": {},
   "outputs": [
    {
     "data": {
      "text/plain": [
       "<matplotlib.axes._subplots.AxesSubplot at 0x253bc8d59e8>"
      ]
     },
     "execution_count": 105,
     "metadata": {},
     "output_type": "execute_result"
    },
    {
     "data": {
      "image/png": "[encoded data removed]",
      "text/plain": [
       "<matplotlib.figure.Figure at 0x253bcd80588>"
      ]
     },
     "metadata": {},
     "output_type": "display_data"
    }
   ],
   "source": [
    "# 画像サイズを指定\n",
    "plt.figure(figsize=(10, 8))\n",
    "# ヒートマップ\n",
    "sns.heatmap(train.corr())"
   ]
  },
  {
   "cell_type": "markdown",
   "metadata": {},
   "source": [
    "いくつかの項目について可視化を行いました。申し込む人と申し込まない人の傾向がいくつか見えてくると思うので、気づいた点を書き出してみてください。\n",
    "また、その他の項目についてもseabornの使い方を調べながら可視化を進めてください。他にもいろいろなグラグを書くことができます！"
   ]
  },
  {
   "cell_type": "code",
   "execution_count": null,
   "metadata": {
    "collapsed": true
   },
   "outputs": [],
   "source": [
    "# その他の項目の可視化(try)\n"
   ]
  },
  {
   "cell_type": "markdown",
   "metadata": {},
   "source": [
    "### 気づき(try)\n"
   ]
  },
  {
   "cell_type": "markdown",
   "metadata": {},
   "source": [
    "## データ前処理\n",
    "前処理(Preprocessing)とは、与えられたデータについてアルゴリズムを用いて予測ができる形にするまでの処理を意味します。\n",
    "具体的には、欠損値への対応、外れ値の検出・処理、ダミー変数の作成、連続データの離散化、特徴量選択などを行います。  \n",
    "適用するアルゴリズムにより、異なる前処理をしなければならないことがあるので、\n",
    "何度も前処理をやり直す必要があるなど、データ分析を行うにあたりかなり時間がかかる作業です。"
   ]
  },
  {
   "cell_type": "code",
   "execution_count": 106,
   "metadata": {
    "collapsed": true
   },
   "outputs": [],
   "source": [
    "# 一旦飛ばします！先にモデル構築を体験していただきます！"
   ]
  },
  {
   "cell_type": "markdown",
   "metadata": {},
   "source": [
    "## モデル構築\n",
    "ここでようやく、機械学習によるモデルの構築を行います。\n",
    "今回は決定木というアルゴリズムを使ってモデルを構築します。\n",
    "決定木とは何かというのは、とりあえず一旦気にしないで、まずは実装してみます。"
   ]
  },
  {
   "cell_type": "code",
   "execution_count": 115,
   "metadata": {
    "collapsed": true
   },
   "outputs": [],
   "source": [
    "# 学習に使うデータを用意\n",
    "# (pramに設定する変数を増やしたり減らしたりしてモデルをいくつかモデルを作って投稿してみてください)\n",
    "pram = ['age','balance','pdays']\n",
    "# trainとtestから学習に必要な項目を引き出します\n",
    "train_X = train.loc[:,pram]\n",
    "test_X = test.loc[:,pram]\n",
    "# trainのyをコピーします\n",
    "train_y = train['y']"
   ]
  },
  {
   "cell_type": "code",
   "execution_count": 116,
   "metadata": {},
   "outputs": [],
   "source": [
    "## sklearn（機械学習ライブラリ）のインポート\n",
    "from sklearn.tree import DecisionTreeClassifier\n",
    "\n",
    "# パラメータ設定\n",
    "clf = DecisionTreeClassifier(random_state=0)\n",
    "# モデル構築\n",
    "clf = clf.fit(train_X, train_y)\n",
    "\n",
    "# 設定できるパラメータは、例えば以下の様なものです。（いろいろ設定してみてください）\n",
    "# criterion : 分割基準。gini or entropyを選択。(デフォルトでジニ係数)\n",
    "# max_depth : 木の深さ。木が深くなるほど過学習し易いので、適当なしきい値を設定してあげる。\n",
    "# max_features：最適な分割をする際の特徴量の数\n",
    "# min_samples_split：分岐する際のサンプル数\n",
    "# random_state：ランダムseedの設定。seedを設定しないと、毎回モデル結果が変わるので注意。"
   ]
  },
  {
   "cell_type": "markdown",
   "metadata": {},
   "source": [
    "clf変数が予測モデルになります。\n",
    "この予測モデルに対してtestデータを当てて、testデータのy：申込有無を予測します。"
   ]
  },
  {
   "cell_type": "code",
   "execution_count": 121,
   "metadata": {},
   "outputs": [],
   "source": [
    "# 予測\n",
    "pred = clf.predict(test_X)"
   ]
  },
  {
   "cell_type": "markdown",
   "metadata": {},
   "source": [
    "予測した値を提出用のデータとして加工します。\n",
    "ここでsampleファイルを利用します。sampleファイルに対してpredの値を上書きします。"
   ]
  },
  {
   "cell_type": "code",
   "execution_count": 124,
   "metadata": {},
   "outputs": [],
   "source": [
    "# 提出用\n",
    "sample[1] = pred\n",
    "sample.to_csv('submit_bank_DecisionTree_20180929.csv',index=None,header=None)"
   ]
  },
  {
   "cell_type": "markdown",
   "metadata": {},
   "source": [
    "フォルダ内にcsvファイルが出力されていることを確認してください。\n",
    "そのファイルをSIGNATEに投稿して、評価値とランキングをslackに投稿してみてください！！(try)\n",
    "\n",
    "https://signate.jp/competitions/1"
   ]
  },
  {
   "cell_type": "markdown",
   "metadata": {},
   "source": [
    "これで一通りのプロセスを体験できました。\n",
    "今後モデルの精度を向上するための方法や評価指標の確認などを追加していきます。。"
   ]
  },
  {
   "cell_type": "code",
   "execution_count": null,
   "metadata": {
    "collapsed": true
   },
   "outputs": [],
   "source": []
  }
 ],
 "metadata": {
  "kernelspec": {
   "display_name": "Python 3",
   "language": "python",
   "name": "python3"
  },
  "language_info": {
   "codemirror_mode": {
    "name": "ipython",
    "version": 3
   },
   "file_extension": ".py",
   "mimetype": "text/x-python",
   "name": "python",
   "nbconvert_exporter": "python",
   "pygments_lexer": "ipython3",
   "version": "3.6.3"
  }
 },
 "nbformat": 4,
 "nbformat_minor": 2
}
